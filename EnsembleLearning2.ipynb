{
  "nbformat": 4,
  "nbformat_minor": 0,
  "metadata": {
    "colab": {
      "name": "EnsembleLearning2.ipynb",
      "provenance": [],
      "collapsed_sections": []
    },
    "kernelspec": {
      "name": "python3",
      "display_name": "Python 3"
    },
    "accelerator": "GPU"
  },
  "cells": [
    {
      "cell_type": "code",
      "metadata": {
        "colab": {
          "base_uri": "https://localhost:8080/"
        },
        "id": "eAsVzUKB_PsR",
        "outputId": "1cbafb34-f01a-4321-ce8c-631b19e1c782"
      },
      "source": [
        "from __future__ import print_function, division\n",
        "\n",
        "import torch\n",
        "import torch.nn as nn\n",
        "import torch.optim as optim\n",
        "from torch.optim import lr_scheduler\n",
        "import numpy as np\n",
        "import torchvision\n",
        "from torchvision import datasets, models, transforms\n",
        "from get_metrics import *\n",
        "import matplotlib.pyplot as plt\n",
        "import time\n",
        "import os\n",
        "import copy\n",
        "\n",
        "plt.ion()   # interactive mode\n",
        "\n",
        "print(\"Libraries imported\")"
      ],
      "execution_count": 2,
      "outputs": [
        {
          "output_type": "stream",
          "text": [
            "Libraries imported\n"
          ],
          "name": "stdout"
        }
      ]
    },
    {
      "cell_type": "code",
      "metadata": {
        "id": "e_bObNQ3_qvV"
      },
      "source": [
        "datadir = '/content/drive/MyDrive/Project/Dataset'\n",
        "modeldir = '/content/drive/MyDrive/Project/Models'\n",
        "trainingset = datadir+'/train/'\n",
        "testingset = datadir+'/test/'\n",
        "\n",
        "img_size = (320,320)\n",
        "batch_size = 8"
      ],
      "execution_count": 3,
      "outputs": []
    },
    {
      "cell_type": "code",
      "metadata": {
        "colab": {
          "base_uri": "https://localhost:8080/"
        },
        "id": "q7s9vJRD_sl7",
        "outputId": "9557cdf8-ad57-4a66-9e60-5812c771363a"
      },
      "source": [
        "mean1, std1 = [0.3017, 0.3017, 0.3017], [0.1913, 0.1913, 0.1913]\n",
        "mean2, std2 = [0.3176, 0.3176, 0.3176], [0.1881, 0.1881, 0.1881]\n",
        "\n",
        "data_transforms = {\n",
        "    'train': transforms.Compose([\n",
        "                                 transforms.Resize(img_size),\n",
        "                           transforms.RandomHorizontalFlip(),\n",
        "                           transforms.RandomRotation(10),\n",
        "                           transforms.ToTensor(),\n",
        "                           transforms.Normalize(mean = mean1, \n",
        "                                                  std = std1)\n",
        "    ]),\n",
        "    'test': transforms.Compose([\n",
        "                                transforms.Resize(img_size),\n",
        "                           transforms.ToTensor(),\n",
        "                           transforms.Normalize(mean = mean2, \n",
        "                                                  std = std2)\n",
        "    ]),\n",
        "                   }\n",
        "\n",
        "print(\"Initializing Datasets and Dataloaders...\\n\")\n",
        "\n",
        "image_datasets = {'train' : datasets.ImageFolder(trainingset, data_transforms['train']), \n",
        "                  'test' : datasets.ImageFolder(testingset, data_transforms['test'])}\n",
        "\n",
        "dataloaders = {'train' : torch.utils.data.DataLoader(image_datasets['train'], \n",
        "                                                     batch_size = batch_size, shuffle = True,\n",
        "                                                     num_workers=4, pin_memory=True),\n",
        "               'test' : torch.utils.data.DataLoader(image_datasets['test'], \n",
        "                                                     batch_size = batch_size, shuffle = True,\n",
        "                                                     num_workers=4, pin_memory=True)}\n",
        "\n",
        "device = torch.device(\"cuda:0\")\n",
        "dataset_sizes = {'train' : len(image_datasets['train']),\n",
        "                 'test' : len(image_datasets['test'])}\n",
        "print(\"Initialized!\")"
      ],
      "execution_count": 4,
      "outputs": [
        {
          "output_type": "stream",
          "text": [
            "Initializing Datasets and Dataloaders...\n",
            "\n",
            "Initialized!\n"
          ],
          "name": "stdout"
        },
        {
          "output_type": "stream",
          "text": [
            "/usr/local/lib/python3.7/dist-packages/torch/utils/data/dataloader.py:477: UserWarning: This DataLoader will create 4 worker processes in total. Our suggested max number of worker in current system is 2, which is smaller than what this DataLoader is going to create. Please be aware that excessive worker creation might get DataLoader running slow or even freeze, lower the worker number to avoid potential slowness/freeze if necessary.\n",
            "  cpuset_checked))\n"
          ],
          "name": "stderr"
        }
      ]
    },
    {
      "cell_type": "code",
      "metadata": {
        "colab": {
          "base_uri": "https://localhost:8080/"
        },
        "id": "T_ZDrXXs_v59",
        "outputId": "11b8d4cc-08b2-4697-92f2-8d61fd418e4b"
      },
      "source": [
        "# Class names convert to index\n",
        "image_datasets['train'].class_to_idx\n",
        "class_names=image_datasets['train'].classes\n",
        "print(\">>Class Names: {}\\n\".format(image_datasets['train'].classes))\n",
        "print(\">>Class Index: {}\\n\".format(image_datasets['train'].class_to_idx))\n",
        "print(\">>Number of images in training={}\\n\".format(dataset_sizes['train']))\n",
        "print(\">>Number of images in test={}\\n\".format(dataset_sizes['test']))\n",
        "print(\"    Number of steps for training set={}\\n\".format(len(dataloaders['train'])))\n",
        "print(\"    Number of steps for test set={}\\n\".format(len(dataloaders['test']))) "
      ],
      "execution_count": 5,
      "outputs": [
        {
          "output_type": "stream",
          "text": [
            ">>Class Names: ['abnormal', 'normal']\n",
            "\n",
            ">>Class Index: {'abnormal': 0, 'normal': 1}\n",
            "\n",
            ">>Number of images in training=8379\n",
            "\n",
            ">>Number of images in test=563\n",
            "\n",
            "    Number of steps for training set=1048\n",
            "\n",
            "    Number of steps for test set=71\n",
            "\n"
          ],
          "name": "stdout"
        }
      ]
    },
    {
      "cell_type": "code",
      "metadata": {
        "colab": {
          "base_uri": "https://localhost:8080/",
          "height": 204
        },
        "id": "4dxEAhl-_1jd",
        "outputId": "b7631663-4794-41a6-9c1b-57a822f0df17"
      },
      "source": [
        "def imshow(inp, title=None):\n",
        "    \"\"\"Imshow for Tensor.\"\"\"\n",
        "    inp = inp.numpy().transpose((1, 2, 0))\n",
        "    mean = np.array(mean1)\n",
        "    std = np.array(std1)\n",
        "    inp = std * inp + mean\n",
        "    inp = np.clip(inp, 0, 1)\n",
        "    plt.imshow(inp)\n",
        "    if title is not None:\n",
        "        plt.title(title)\n",
        "    plt.pause(0.001)  # pause a bit so that plots are updated\n",
        "\n",
        "\n",
        "# Get a batch of training data\n",
        "inputs, classes = next(iter(dataloaders['train']))\n",
        "inputs = [inputs[x] for x in [0,1,2,3]]\n",
        "classes = [classes[x] for x in [0,1,2,3]]\n",
        "# Make a grid from batch\n",
        "out = torchvision.utils.make_grid(inputs)\n",
        "\n",
        "imshow(out, title=[class_names[x] for x in classes])"
      ],
      "execution_count": 6,
      "outputs": [
        {
          "output_type": "stream",
          "text": [
            "/usr/local/lib/python3.7/dist-packages/torch/utils/data/dataloader.py:477: UserWarning: This DataLoader will create 4 worker processes in total. Our suggested max number of worker in current system is 2, which is smaller than what this DataLoader is going to create. Please be aware that excessive worker creation might get DataLoader running slow or even freeze, lower the worker number to avoid potential slowness/freeze if necessary.\n",
            "  cpuset_checked))\n"
          ],
          "name": "stderr"
        },
        {
          "output_type": "display_data",
          "data": {
            "image/png": "[encoded data removed]",
            "text/plain": [
              "<Figure size 432x288 with 1 Axes>"
            ]
          },
          "metadata": {
            "tags": [],
            "needs_background": "light"
          }
        }
      ]
    },
    {
      "cell_type": "markdown",
      "metadata": {
        "id": "uu4Y5AH9_8oY"
      },
      "source": [
        "**Building the Ensemble Learning Model**"
      ]
    },
    {
      "cell_type": "code",
      "metadata": {
        "id": "FyKStnnrD_qU"
      },
      "source": [
        "class SpinalNet_DenseNet_201(nn.Module):\n",
        "  def __init__(self):\n",
        "    super(SpinalNet_DenseNet_201, self).__init__()\n",
        "\n",
        "    self.fc_spinal_layer1 = nn.Sequential(\n",
        "        nn.Dropout(p=0.5),\n",
        "        nn.Linear(960, 240),\n",
        "        nn.BatchNorm1d(240),\n",
        "        nn.ReLU(inplace=True),)\n",
        "    self.fc_spinal_layer2 = nn.Sequential(\n",
        "        nn.Dropout(p=0.5),\n",
        "        nn.Linear(960+240, 240),\n",
        "        nn.BatchNorm1d(240),\n",
        "        nn.ReLU(inplace=True),)\n",
        "    self.fc_spinal_layer3 = nn.Sequential(\n",
        "        nn.Dropout(p=0.5),\n",
        "        nn.Linear(960+240, 240),\n",
        "        nn.BatchNorm1d(240),\n",
        "        nn.ReLU(inplace=True),)\n",
        "    self.fc_spinal_layer4 = nn.Sequential(\n",
        "        nn.Dropout(p=0.5),\n",
        "        nn.Linear(960+240, 240),\n",
        "        nn.BatchNorm1d(240),\n",
        "        nn.ReLU(inplace=True),)\n",
        "    self.fc_out = nn.Sequential(\n",
        "        nn.Dropout(p=0.5),\n",
        "        nn.Linear(240*4, 2),\n",
        "        nn.Sigmoid(),)\n",
        "  \n",
        "  def forward(self, x):\n",
        "    x1 = self.fc_spinal_layer1(x[:, 0:960])\n",
        "    x2 = self.fc_spinal_layer2(torch.cat([x[:, 960:2*960], x1], dim=1))\n",
        "    x3 = self.fc_spinal_layer3(torch.cat([x[:, 0:960], x2], dim=1))\n",
        "    x4 = self.fc_spinal_layer4(torch.cat([x[:, 960:2*960], x3], dim=1))\n",
        "\n",
        "    x = torch.cat([x1, x2], dim=1)\n",
        "    x = torch.cat([x, x3], dim=1)\n",
        "    x = torch.cat([x, x4], dim=1)\n",
        "\n",
        "    x = self.fc_out(x)\n",
        "    return x"
      ],
      "execution_count": 7,
      "outputs": []
    },
    {
      "cell_type": "code",
      "metadata": {
        "id": "GkFl1nReEFNH"
      },
      "source": [
        "class SpinalNet_ResNext_50(nn.Module):\n",
        "  def __init__(self):\n",
        "    super(SpinalNet_ResNext_50, self).__init__()\n",
        "\n",
        "    self.fc_spinal_layer1 = nn.Sequential(\n",
        "        nn.Linear(1024, 20),\n",
        "        nn.ReLU(inplace=True),)\n",
        "    self.fc_spinal_layer2 = nn.Sequential(\n",
        "        nn.Linear(1024+20, 20),\n",
        "        nn.ReLU(inplace=True),)\n",
        "    self.fc_spinal_layer3 = nn.Sequential(\n",
        "        nn.Linear(1024+20, 20),\n",
        "        nn.ReLU(inplace=True),)\n",
        "    self.fc_spinal_layer4 = nn.Sequential(\n",
        "        nn.Linear(1024+20, 20),\n",
        "        nn.ReLU(inplace=True),)\n",
        "    self.fc_out = nn.Sequential(\n",
        "        nn.Linear(20*4, 2),\n",
        "        nn.Sigmoid())\n",
        "    \n",
        "  def forward(self, x): \n",
        "    x1 = self.fc_spinal_layer1(x[:, 0:1024])\n",
        "    x2 = self.fc_spinal_layer2(torch.cat([x[:, 1024:2*1024], x1], dim=1))\n",
        "    x3 = self.fc_spinal_layer3(torch.cat([x[:, 0:1024], x2], dim=1))\n",
        "    x4 = self.fc_spinal_layer4(torch.cat([x[:, 1024:2*1024], x3], dim=1))   \n",
        "\n",
        "    x = torch.cat([x1, x2], dim=1)\n",
        "    x = torch.cat([x, x3], dim=1)\n",
        "    x = torch.cat([x, x4], dim=1)\n",
        "\n",
        "    x = self.fc_out(x)\n",
        "\n",
        "    return x"
      ],
      "execution_count": 8,
      "outputs": []
    },
    {
      "cell_type": "code",
      "metadata": {
        "id": "s-nbH0PH_-AN"
      },
      "source": [
        "model_1 = models.densenet201(pretrained=False)\n",
        "model_3 = models.densenet169(pretrained=False)\n",
        "model_4 = models.resnext50_32x4d(pretrained=False)"
      ],
      "execution_count": 9,
      "outputs": []
    },
    {
      "cell_type": "code",
      "metadata": {
        "id": "PygPzSnwEIwS"
      },
      "source": [
        "model_1.classifier = SpinalNet_DenseNet_201()\n",
        "model_3.classifier = nn.Sequential(nn.Linear(1664,2), nn.Sigmoid())\n",
        "model_4.fc = SpinalNet_ResNext_50()"
      ],
      "execution_count": 10,
      "outputs": []
    },
    {
      "cell_type": "code",
      "metadata": {
        "colab": {
          "base_uri": "https://localhost:8080/"
        },
        "id": "YsN2qzu1Ejeh",
        "outputId": "df29c4ab-1640-4cbb-b1ce-ebb37a2cc09c"
      },
      "source": [
        "model_1.load_state_dict(torch.load(modeldir+'/DenseNet201SP.pth'))\n",
        "model_3.load_state_dict(torch.load(modeldir+'/DenseNet169FC.pth'))\n",
        "model_4.load_state_dict(torch.load(modeldir+'/ResNeXt50SP.pth'))"
      ],
      "execution_count": 11,
      "outputs": [
        {
          "output_type": "execute_result",
          "data": {
            "text/plain": [
              "<All keys matched successfully>"
            ]
          },
          "metadata": {
            "tags": []
          },
          "execution_count": 11
        }
      ]
    },
    {
      "cell_type": "code",
      "metadata": {
        "id": "3WeSSX56FM88"
      },
      "source": [
        "model_1=model_1.to(device)\n",
        "model_3=model_3.to(device)\n",
        "model_4=model_4.to(device)"
      ],
      "execution_count": 12,
      "outputs": []
    },
    {
      "cell_type": "code",
      "metadata": {
        "id": "bRDHwlegSh6A"
      },
      "source": [
        "model_1.classifier.fc_out=nn.Linear(960,960)\n",
        "model_3.classifier = nn.Linear(1664, 1664)\n",
        "model_4.fc.fc_out = nn.Linear(80,80)"
      ],
      "execution_count": 13,
      "outputs": []
    },
    {
      "cell_type": "code",
      "metadata": {
        "id": "5XhQObjyR1Ro"
      },
      "source": [
        "for param in model_1.parameters():\n",
        "    param.requires_grad_(False)\n",
        "    \n",
        "for param in model_3.parameters():\n",
        "    param.requires_grad_(False)\n",
        "\n",
        "for param in model_4.parameters():\n",
        "    param.requires_grad_(False)"
      ],
      "execution_count": 14,
      "outputs": []
    },
    {
      "cell_type": "code",
      "metadata": {
        "id": "4ADxGrxDg9bJ"
      },
      "source": [
        "class SubEnsemble(nn.Module):\n",
        "  def __init__(self):\n",
        "    super(SubEnsemble, self).__init__()\n",
        "\n",
        "    self.modelA = model_4\n",
        "    self.modelB = model_3\n",
        "    self.modelC = model_1\n",
        "\n",
        "    self.hidden = nn.Linear(2704, 2704)\n",
        "    self.classifier = nn.Linear(2704, 2)\n",
        "\n",
        "  def forward(self, x):\n",
        "\n",
        "    x1 = self.modelA(x.clone())\n",
        "    x1 = x1.view(x1.size(0), -1)\n",
        "    x2 = self.modelB(x)\n",
        "    x2 = x2.view(x2.size(0), -1)\n",
        "    x3 = self.modelC(x)\n",
        "    x3 = x3.view(x3.size(0), -1)\n",
        "\n",
        "    x = torch.cat((x1,x2,x3), dim=1)\n",
        "    x = self.hidden(torch.softmax(x, dim=1))\n",
        "    x = self.classifier(torch.sigmoid(x))\n",
        "\n",
        "    return x"
      ],
      "execution_count": 15,
      "outputs": []
    },
    {
      "cell_type": "code",
      "metadata": {
        "id": "LZEfd_u9RJ0j"
      },
      "source": [
        "model_2 = SubEnsemble()\n",
        "model_2.load_state_dict(torch.load(modeldir+'/EL1.pth'))\n",
        "model_2 = model_2.to(device)"
      ],
      "execution_count": 16,
      "outputs": []
    },
    {
      "cell_type": "code",
      "metadata": {
        "colab": {
          "base_uri": "https://localhost:8080/"
        },
        "id": "qrUuIyKCRf59",
        "outputId": "c9a61853-fad8-4a80-ca3b-366d323028fd"
      },
      "source": [
        "model_1.eval()\n",
        "model_2.eval()\n",
        "model_3.eval()\n",
        "model_4.eval()"
      ],
      "execution_count": 17,
      "outputs": [
        {
          "output_type": "execute_result",
          "data": {
            "text/plain": [
              "ResNet(\n",
              "  (conv1): Conv2d(3, 64, kernel_size=(7, 7), stride=(2, 2), padding=(3, 3), bias=False)\n",
              "  (bn1): BatchNorm2d(64, eps=1e-05, momentum=0.1, affine=True, track_running_stats=True)\n",
              "  (relu): ReLU(inplace=True)\n",
              "  (maxpool): MaxPool2d(kernel_size=3, stride=2, padding=1, dilation=1, ceil_mode=False)\n",
              "  (layer1): Sequential(\n",
              "    (0): Bottleneck(\n",
              "      (conv1): Conv2d(64, 128, kernel_size=(1, 1), stride=(1, 1), bias=False)\n",
              "      (bn1): BatchNorm2d(128, eps=1e-05, momentum=0.1, affine=True, track_running_stats=True)\n",
              "      (conv2): Conv2d(128, 128, kernel_size=(3, 3), stride=(1, 1), padding=(1, 1), groups=32, bias=False)\n",
              "      (bn2): BatchNorm2d(128, eps=1e-05, momentum=0.1, affine=True, track_running_stats=True)\n",
              "      (conv3): Conv2d(128, 256, kernel_size=(1, 1), stride=(1, 1), bias=False)\n",
              "      (bn3): BatchNorm2d(256, eps=1e-05, momentum=0.1, affine=True, track_running_stats=True)\n",
              "      (relu): ReLU(inplace=True)\n",
              "      (downsample): Sequential(\n",
              "        (0): Conv2d(64, 256, kernel_size=(1, 1), stride=(1, 1), bias=False)\n",
              "        (1): BatchNorm2d(256, eps=1e-05, momentum=0.1, affine=True, track_running_stats=True)\n",
              "      )\n",
              "    )\n",
              "    (1): Bottleneck(\n",
              "      (conv1): Conv2d(256, 128, kernel_size=(1, 1), stride=(1, 1), bias=False)\n",
              "      (bn1): BatchNorm2d(128, eps=1e-05, momentum=0.1, affine=True, track_running_stats=True)\n",
              "      (conv2): Conv2d(128, 128, kernel_size=(3, 3), stride=(1, 1), padding=(1, 1), groups=32, bias=False)\n",
              "      (bn2): BatchNorm2d(128, eps=1e-05, momentum=0.1, affine=True, track_running_stats=True)\n",
              "      (conv3): Conv2d(128, 256, kernel_size=(1, 1), stride=(1, 1), bias=False)\n",
              "      (bn3): BatchNorm2d(256, eps=1e-05, momentum=0.1, affine=True, track_running_stats=True)\n",
              "      (relu): ReLU(inplace=True)\n",
              "    )\n",
              "    (2): Bottleneck(\n",
              "      (conv1): Conv2d(256, 128, kernel_size=(1, 1), stride=(1, 1), bias=False)\n",
              "      (bn1): BatchNorm2d(128, eps=1e-05, momentum=0.1, affine=True, track_running_stats=True)\n",
              "      (conv2): Conv2d(128, 128, kernel_size=(3, 3), stride=(1, 1), padding=(1, 1), groups=32, bias=False)\n",
              "      (bn2): BatchNorm2d(128, eps=1e-05, momentum=0.1, affine=True, track_running_stats=True)\n",
              "      (conv3): Conv2d(128, 256, kernel_size=(1, 1), stride=(1, 1), bias=False)\n",
              "      (bn3): BatchNorm2d(256, eps=1e-05, momentum=0.1, affine=True, track_running_stats=True)\n",
              "      (relu): ReLU(inplace=True)\n",
              "    )\n",
              "  )\n",
              "  (layer2): Sequential(\n",
              "    (0): Bottleneck(\n",
              "      (conv1): Conv2d(256, 256, kernel_size=(1, 1), stride=(1, 1), bias=False)\n",
              "      (bn1): BatchNorm2d(256, eps=1e-05, momentum=0.1, affine=True, track_running_stats=True)\n",
              "      (conv2): Conv2d(256, 256, kernel_size=(3, 3), stride=(2, 2), padding=(1, 1), groups=32, bias=False)\n",
              "      (bn2): BatchNorm2d(256, eps=1e-05, momentum=0.1, affine=True, track_running_stats=True)\n",
              "      (conv3): Conv2d(256, 512, kernel_size=(1, 1), stride=(1, 1), bias=False)\n",
              "      (bn3): BatchNorm2d(512, eps=1e-05, momentum=0.1, affine=True, track_running_stats=True)\n",
              "      (relu): ReLU(inplace=True)\n",
              "      (downsample): Sequential(\n",
              "        (0): Conv2d(256, 512, kernel_size=(1, 1), stride=(2, 2), bias=False)\n",
              "        (1): BatchNorm2d(512, eps=1e-05, momentum=0.1, affine=True, track_running_stats=True)\n",
              "      )\n",
              "    )\n",
              "    (1): Bottleneck(\n",
              "      (conv1): Conv2d(512, 256, kernel_size=(1, 1), stride=(1, 1), bias=False)\n",
              "      (bn1): BatchNorm2d(256, eps=1e-05, momentum=0.1, affine=True, track_running_stats=True)\n",
              "      (conv2): Conv2d(256, 256, kernel_size=(3, 3), stride=(1, 1), padding=(1, 1), groups=32, bias=False)\n",
              "      (bn2): BatchNorm2d(256, eps=1e-05, momentum=0.1, affine=True, track_running_stats=True)\n",
              "      (conv3): Conv2d(256, 512, kernel_size=(1, 1), stride=(1, 1), bias=False)\n",
              "      (bn3): BatchNorm2d(512, eps=1e-05, momentum=0.1, affine=True, track_running_stats=True)\n",
              "      (relu): ReLU(inplace=True)\n",
              "    )\n",
              "    (2): Bottleneck(\n",
              "      (conv1): Conv2d(512, 256, kernel_size=(1, 1), stride=(1, 1), bias=False)\n",
              "      (bn1): BatchNorm2d(256, eps=1e-05, momentum=0.1, affine=True, track_running_stats=True)\n",
              "      (conv2): Conv2d(256, 256, kernel_size=(3, 3), stride=(1, 1), padding=(1, 1), groups=32, bias=False)\n",
              "      (bn2): BatchNorm2d(256, eps=1e-05, momentum=0.1, affine=True, track_running_stats=True)\n",
              "      (conv3): Conv2d(256, 512, kernel_size=(1, 1), stride=(1, 1), bias=False)\n",
              "      (bn3): BatchNorm2d(512, eps=1e-05, momentum=0.1, affine=True, track_running_stats=True)\n",
              "      (relu): ReLU(inplace=True)\n",
              "    )\n",
              "    (3): Bottleneck(\n",
              "      (conv1): Conv2d(512, 256, kernel_size=(1, 1), stride=(1, 1), bias=False)\n",
              "      (bn1): BatchNorm2d(256, eps=1e-05, momentum=0.1, affine=True, track_running_stats=True)\n",
              "      (conv2): Conv2d(256, 256, kernel_size=(3, 3), stride=(1, 1), padding=(1, 1), groups=32, bias=False)\n",
              "      (bn2): BatchNorm2d(256, eps=1e-05, momentum=0.1, affine=True, track_running_stats=True)\n",
              "      (conv3): Conv2d(256, 512, kernel_size=(1, 1), stride=(1, 1), bias=False)\n",
              "      (bn3): BatchNorm2d(512, eps=1e-05, momentum=0.1, affine=True, track_running_stats=True)\n",
              "      (relu): ReLU(inplace=True)\n",
              "    )\n",
              "  )\n",
              "  (layer3): Sequential(\n",
              "    (0): Bottleneck(\n",
              "      (conv1): Conv2d(512, 512, kernel_size=(1, 1), stride=(1, 1), bias=False)\n",
              "      (bn1): BatchNorm2d(512, eps=1e-05, momentum=0.1, affine=True, track_running_stats=True)\n",
              "      (conv2): Conv2d(512, 512, kernel_size=(3, 3), stride=(2, 2), padding=(1, 1), groups=32, bias=False)\n",
              "      (bn2): BatchNorm2d(512, eps=1e-05, momentum=0.1, affine=True, track_running_stats=True)\n",
              "      (conv3): Conv2d(512, 1024, kernel_size=(1, 1), stride=(1, 1), bias=False)\n",
              "      (bn3): BatchNorm2d(1024, eps=1e-05, momentum=0.1, affine=True, track_running_stats=True)\n",
              "      (relu): ReLU(inplace=True)\n",
              "      (downsample): Sequential(\n",
              "        (0): Conv2d(512, 1024, kernel_size=(1, 1), stride=(2, 2), bias=False)\n",
              "        (1): BatchNorm2d(1024, eps=1e-05, momentum=0.1, affine=True, track_running_stats=True)\n",
              "      )\n",
              "    )\n",
              "    (1): Bottleneck(\n",
              "      (conv1): Conv2d(1024, 512, kernel_size=(1, 1), stride=(1, 1), bias=False)\n",
              "      (bn1): BatchNorm2d(512, eps=1e-05, momentum=0.1, affine=True, track_running_stats=True)\n",
              "      (conv2): Conv2d(512, 512, kernel_size=(3, 3), stride=(1, 1), padding=(1, 1), groups=32, bias=False)\n",
              "      (bn2): BatchNorm2d(512, eps=1e-05, momentum=0.1, affine=True, track_running_stats=True)\n",
              "      (conv3): Conv2d(512, 1024, kernel_size=(1, 1), stride=(1, 1), bias=False)\n",
              "      (bn3): BatchNorm2d(1024, eps=1e-05, momentum=0.1, affine=True, track_running_stats=True)\n",
              "      (relu): ReLU(inplace=True)\n",
              "    )\n",
              "    (2): Bottleneck(\n",
              "      (conv1): Conv2d(1024, 512, kernel_size=(1, 1), stride=(1, 1), bias=False)\n",
              "      (bn1): BatchNorm2d(512, eps=1e-05, momentum=0.1, affine=True, track_running_stats=True)\n",
              "      (conv2): Conv2d(512, 512, kernel_size=(3, 3), stride=(1, 1), padding=(1, 1), groups=32, bias=False)\n",
              "      (bn2): BatchNorm2d(512, eps=1e-05, momentum=0.1, affine=True, track_running_stats=True)\n",
              "      (conv3): Conv2d(512, 1024, kernel_size=(1, 1), stride=(1, 1), bias=False)\n",
              "      (bn3): BatchNorm2d(1024, eps=1e-05, momentum=0.1, affine=True, track_running_stats=True)\n",
              "      (relu): ReLU(inplace=True)\n",
              "    )\n",
              "    (3): Bottleneck(\n",
              "      (conv1): Conv2d(1024, 512, kernel_size=(1, 1), stride=(1, 1), bias=False)\n",
              "      (bn1): BatchNorm2d(512, eps=1e-05, momentum=0.1, affine=True, track_running_stats=True)\n",
              "      (conv2): Conv2d(512, 512, kernel_size=(3, 3), stride=(1, 1), padding=(1, 1), groups=32, bias=False)\n",
              "      (bn2): BatchNorm2d(512, eps=1e-05, momentum=0.1, affine=True, track_running_stats=True)\n",
              "      (conv3): Conv2d(512, 1024, kernel_size=(1, 1), stride=(1, 1), bias=False)\n",
              "      (bn3): BatchNorm2d(1024, eps=1e-05, momentum=0.1, affine=True, track_running_stats=True)\n",
              "      (relu): ReLU(inplace=True)\n",
              "    )\n",
              "    (4): Bottleneck(\n",
              "      (conv1): Conv2d(1024, 512, kernel_size=(1, 1), stride=(1, 1), bias=False)\n",
              "      (bn1): BatchNorm2d(512, eps=1e-05, momentum=0.1, affine=True, track_running_stats=True)\n",
              "      (conv2): Conv2d(512, 512, kernel_size=(3, 3), stride=(1, 1), padding=(1, 1), groups=32, bias=False)\n",
              "      (bn2): BatchNorm2d(512, eps=1e-05, momentum=0.1, affine=True, track_running_stats=True)\n",
              "      (conv3): Conv2d(512, 1024, kernel_size=(1, 1), stride=(1, 1), bias=False)\n",
              "      (bn3): BatchNorm2d(1024, eps=1e-05, momentum=0.1, affine=True, track_running_stats=True)\n",
              "      (relu): ReLU(inplace=True)\n",
              "    )\n",
              "    (5): Bottleneck(\n",
              "      (conv1): Conv2d(1024, 512, kernel_size=(1, 1), stride=(1, 1), bias=False)\n",
              "      (bn1): BatchNorm2d(512, eps=1e-05, momentum=0.1, affine=True, track_running_stats=True)\n",
              "      (conv2): Conv2d(512, 512, kernel_size=(3, 3), stride=(1, 1), padding=(1, 1), groups=32, bias=False)\n",
              "      (bn2): BatchNorm2d(512, eps=1e-05, momentum=0.1, affine=True, track_running_stats=True)\n",
              "      (conv3): Conv2d(512, 1024, kernel_size=(1, 1), stride=(1, 1), bias=False)\n",
              "      (bn3): BatchNorm2d(1024, eps=1e-05, momentum=0.1, affine=True, track_running_stats=True)\n",
              "      (relu): ReLU(inplace=True)\n",
              "    )\n",
              "  )\n",
              "  (layer4): Sequential(\n",
              "    (0): Bottleneck(\n",
              "      (conv1): Conv2d(1024, 1024, kernel_size=(1, 1), stride=(1, 1), bias=False)\n",
              "      (bn1): BatchNorm2d(1024, eps=1e-05, momentum=0.1, affine=True, track_running_stats=True)\n",
              "      (conv2): Conv2d(1024, 1024, kernel_size=(3, 3), stride=(2, 2), padding=(1, 1), groups=32, bias=False)\n",
              "      (bn2): BatchNorm2d(1024, eps=1e-05, momentum=0.1, affine=True, track_running_stats=True)\n",
              "      (conv3): Conv2d(1024, 2048, kernel_size=(1, 1), stride=(1, 1), bias=False)\n",
              "      (bn3): BatchNorm2d(2048, eps=1e-05, momentum=0.1, affine=True, track_running_stats=True)\n",
              "      (relu): ReLU(inplace=True)\n",
              "      (downsample): Sequential(\n",
              "        (0): Conv2d(1024, 2048, kernel_size=(1, 1), stride=(2, 2), bias=False)\n",
              "        (1): BatchNorm2d(2048, eps=1e-05, momentum=0.1, affine=True, track_running_stats=True)\n",
              "      )\n",
              "    )\n",
              "    (1): Bottleneck(\n",
              "      (conv1): Conv2d(2048, 1024, kernel_size=(1, 1), stride=(1, 1), bias=False)\n",
              "      (bn1): BatchNorm2d(1024, eps=1e-05, momentum=0.1, affine=True, track_running_stats=True)\n",
              "      (conv2): Conv2d(1024, 1024, kernel_size=(3, 3), stride=(1, 1), padding=(1, 1), groups=32, bias=False)\n",
              "      (bn2): BatchNorm2d(1024, eps=1e-05, momentum=0.1, affine=True, track_running_stats=True)\n",
              "      (conv3): Conv2d(1024, 2048, kernel_size=(1, 1), stride=(1, 1), bias=False)\n",
              "      (bn3): BatchNorm2d(2048, eps=1e-05, momentum=0.1, affine=True, track_running_stats=True)\n",
              "      (relu): ReLU(inplace=True)\n",
              "    )\n",
              "    (2): Bottleneck(\n",
              "      (conv1): Conv2d(2048, 1024, kernel_size=(1, 1), stride=(1, 1), bias=False)\n",
              "      (bn1): BatchNorm2d(1024, eps=1e-05, momentum=0.1, affine=True, track_running_stats=True)\n",
              "      (conv2): Conv2d(1024, 1024, kernel_size=(3, 3), stride=(1, 1), padding=(1, 1), groups=32, bias=False)\n",
              "      (bn2): BatchNorm2d(1024, eps=1e-05, momentum=0.1, affine=True, track_running_stats=True)\n",
              "      (conv3): Conv2d(1024, 2048, kernel_size=(1, 1), stride=(1, 1), bias=False)\n",
              "      (bn3): BatchNorm2d(2048, eps=1e-05, momentum=0.1, affine=True, track_running_stats=True)\n",
              "      (relu): ReLU(inplace=True)\n",
              "    )\n",
              "  )\n",
              "  (avgpool): AdaptiveAvgPool2d(output_size=(1, 1))\n",
              "  (fc): SpinalNet_ResNext_50(\n",
              "    (fc_spinal_layer1): Sequential(\n",
              "      (0): Linear(in_features=1024, out_features=20, bias=True)\n",
              "      (1): ReLU(inplace=True)\n",
              "    )\n",
              "    (fc_spinal_layer2): Sequential(\n",
              "      (0): Linear(in_features=1044, out_features=20, bias=True)\n",
              "      (1): ReLU(inplace=True)\n",
              "    )\n",
              "    (fc_spinal_layer3): Sequential(\n",
              "      (0): Linear(in_features=1044, out_features=20, bias=True)\n",
              "      (1): ReLU(inplace=True)\n",
              "    )\n",
              "    (fc_spinal_layer4): Sequential(\n",
              "      (0): Linear(in_features=1044, out_features=20, bias=True)\n",
              "      (1): ReLU(inplace=True)\n",
              "    )\n",
              "    (fc_out): Linear(in_features=80, out_features=80, bias=True)\n",
              "  )\n",
              ")"
            ]
          },
          "metadata": {
            "tags": []
          },
          "execution_count": 17
        }
      ]
    },
    {
      "cell_type": "code",
      "metadata": {
        "colab": {
          "base_uri": "https://localhost:8080/"
        },
        "id": "GG-4TPZajdyB",
        "outputId": "0e8c0706-6d8c-43bd-b8bf-f26c321bd721"
      },
      "source": [
        "get_metric.test_model_el2(model_1,model_3,model_2,model_4,device,dataloaders['test'])"
      ],
      "execution_count": 18,
      "outputs": [
        {
          "output_type": "stream",
          "text": [
            "/usr/local/lib/python3.7/dist-packages/torch/utils/data/dataloader.py:477: UserWarning: This DataLoader will create 4 worker processes in total. Our suggested max number of worker in current system is 2, which is smaller than what this DataLoader is going to create. Please be aware that excessive worker creation might get DataLoader running slow or even freeze, lower the worker number to avoid potential slowness/freeze if necessary.\n",
            "  cpuset_checked))\n"
          ],
          "name": "stderr"
        },
        {
          "output_type": "stream",
          "text": [
            "Correct Prediction: 463  Total Images: 563\n",
            "Test Accuracy = 0.822380\n"
          ],
          "name": "stdout"
        }
      ]
    },
    {
      "cell_type": "code",
      "metadata": {
        "colab": {
          "base_uri": "https://localhost:8080/"
        },
        "id": "qhEoHhPCklFh",
        "outputId": "13ad7dc8-fb9e-4528-eef4-d177213d6277"
      },
      "source": [
        "actuals, predictions = get_metric.test_label_predictions_el2(model_1,model_3,model_2,model_4,device,dataloaders['test'])"
      ],
      "execution_count": 19,
      "outputs": [
        {
          "output_type": "stream",
          "text": [
            "/usr/local/lib/python3.7/dist-packages/torch/utils/data/dataloader.py:477: UserWarning: This DataLoader will create 4 worker processes in total. Our suggested max number of worker in current system is 2, which is smaller than what this DataLoader is going to create. Please be aware that excessive worker creation might get DataLoader running slow or even freeze, lower the worker number to avoid potential slowness/freeze if necessary.\n",
            "  cpuset_checked))\n"
          ],
          "name": "stderr"
        }
      ]
    },
    {
      "cell_type": "code",
      "metadata": {
        "colab": {
          "base_uri": "https://localhost:8080/"
        },
        "id": "Mygie5ToksE2",
        "outputId": "1dc83237-0ce8-4dca-b89d-12f78b32419e"
      },
      "source": [
        "get_metric.get_classification_report(actuals, predictions)"
      ],
      "execution_count": 20,
      "outputs": [
        {
          "output_type": "stream",
          "text": [
            "Classification Report :\n",
            "               precision    recall  f1-score   support\n",
            "\n",
            "           0       0.83      0.81      0.82       278\n",
            "           1       0.82      0.84      0.83       285\n",
            "\n",
            "    accuracy                           0.82       563\n",
            "   macro avg       0.82      0.82      0.82       563\n",
            "weighted avg       0.82      0.82      0.82       563\n",
            "\n"
          ],
          "name": "stdout"
        }
      ]
    },
    {
      "cell_type": "code",
      "metadata": {
        "colab": {
          "base_uri": "https://localhost:8080/",
          "height": 483
        },
        "id": "X9fzfnquktqX",
        "outputId": "52e18927-618a-4a7c-cb6e-3363159b01f4"
      },
      "source": [
        "get_metric.get_confusion_matrix(actuals, predictions)"
      ],
      "execution_count": 21,
      "outputs": [
        {
          "output_type": "stream",
          "text": [
            "Confusion matrix:\n",
            " [[224  54]\n",
            " [ 46 239]]\n"
          ],
          "name": "stdout"
        },
        {
          "output_type": "display_data",
          "data": {
            "image/png": "[encoded data removed]",
            "text/plain": [
              "<Figure size 640x480 with 2 Axes>"
            ]
          },
          "metadata": {
            "tags": []
          }
        }
      ]
    },
    {
      "cell_type": "code",
      "metadata": {
        "colab": {
          "base_uri": "https://localhost:8080/"
        },
        "id": "qZcS4YaNkv4n",
        "outputId": "50a67304-bec3-4e24-a694-d89deeb70651"
      },
      "source": [
        "\n",
        "get_metric.get_cohen_kappa(actuals, predictions)"
      ],
      "execution_count": 22,
      "outputs": [
        {
          "output_type": "stream",
          "text": [
            "Kappa Score of this model:\n",
            " 0.6445796823312542\n"
          ],
          "name": "stdout"
        }
      ]
    }
  ]
}