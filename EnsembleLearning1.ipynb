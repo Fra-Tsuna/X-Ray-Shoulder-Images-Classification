{
  "nbformat": 4,
  "nbformat_minor": 0,
  "metadata": {
    "colab": {
      "name": "EnsembleLearning1.ipynb",
      "provenance": []
    },
    "kernelspec": {
      "name": "python3",
      "display_name": "Python 3"
    },
    "accelerator": "GPU"
  },
  "cells": [
    {
      "cell_type": "code",
      "metadata": {
        "colab": {
          "base_uri": "https://localhost:8080/"
        },
        "id": "G7SJRMOnGtG3",
        "outputId": "7891c2b3-1755-458f-b7c5-84c52ae412f1"
      },
      "source": [
        "from __future__ import print_function, division\r\n",
        "\r\n",
        "import torch\r\n",
        "import torch.nn as nn\r\n",
        "import torch.optim as optim\r\n",
        "from torch.optim import lr_scheduler\r\n",
        "import numpy as np\r\n",
        "import torchvision\r\n",
        "from torchvision import datasets, models, transforms\r\n",
        "from get_metrics import *\r\n",
        "import matplotlib.pyplot as plt\r\n",
        "import time\r\n",
        "import os\r\n",
        "import copy\r\n",
        "\r\n",
        "plt.ion()   # interactive mode\r\n",
        "\r\n",
        "print(\"Libraries imported\")"
      ],
      "execution_count": 25,
      "outputs": [
        {
          "output_type": "stream",
          "text": [
            "Libraries imported\n"
          ],
          "name": "stdout"
        }
      ]
    },
    {
      "cell_type": "code",
      "metadata": {
        "id": "5q9gVFVEG44I"
      },
      "source": [
        "datadir = '/content/drive/MyDrive/Project/Dataset'\r\n",
        "modeldir = '/content/drive/MyDrive/Project/Models'\r\n",
        "trainingset = datadir+'/train/'\r\n",
        "testingset = datadir+'/test/'\r\n",
        "\r\n",
        "img_size = (320,320)\r\n",
        "batch_size = 8"
      ],
      "execution_count": 26,
      "outputs": []
    },
    {
      "cell_type": "code",
      "metadata": {
        "colab": {
          "base_uri": "https://localhost:8080/"
        },
        "id": "eJPEJvZNHJn3",
        "outputId": "54ebe9f3-5f38-4414-c248-9c9e9d413d1b"
      },
      "source": [
        "mean1, std1 = [0.3017, 0.3017, 0.3017], [0.1913, 0.1913, 0.1913]\r\n",
        "mean2, std2 = [0.3176, 0.3176, 0.3176], [0.1881, 0.1881, 0.1881]\r\n",
        "\r\n",
        "data_transforms = {\r\n",
        "    'train': transforms.Compose([\r\n",
        "                                 transforms.Resize(img_size),\r\n",
        "                           transforms.RandomHorizontalFlip(),\r\n",
        "                           transforms.RandomRotation(10),\r\n",
        "                           transforms.ToTensor(),\r\n",
        "                           transforms.Normalize(mean = mean1, \r\n",
        "                                                  std = std1)\r\n",
        "    ]),\r\n",
        "    'test': transforms.Compose([\r\n",
        "                                transforms.Resize(img_size),\r\n",
        "                           transforms.ToTensor(),\r\n",
        "                           transforms.Normalize(mean = mean2, \r\n",
        "                                                  std = std2)\r\n",
        "    ]),\r\n",
        "                   }\r\n",
        "\r\n",
        "print(\"Initializing Datasets and Dataloaders...\\n\")\r\n",
        "\r\n",
        "image_datasets = {'train' : datasets.ImageFolder(trainingset, data_transforms['train']), \r\n",
        "                  'test' : datasets.ImageFolder(testingset, data_transforms['test'])}\r\n",
        "\r\n",
        "dataloaders = {'train' : torch.utils.data.DataLoader(image_datasets['train'], \r\n",
        "                                                     batch_size = batch_size, shuffle = True,\r\n",
        "                                                     num_workers=4, pin_memory=True),\r\n",
        "               'test' : torch.utils.data.DataLoader(image_datasets['test'], \r\n",
        "                                                     batch_size = batch_size, shuffle = True,\r\n",
        "                                                     num_workers=4, pin_memory=True)}\r\n",
        "\r\n",
        "device = torch.device(\"cuda:0\")\r\n",
        "dataset_sizes = {'train' : len(image_datasets['train']),\r\n",
        "                 'test' : len(image_datasets['test'])}\r\n",
        "print(\"Initialized!\")"
      ],
      "execution_count": 27,
      "outputs": [
        {
          "output_type": "stream",
          "text": [
            "Initializing Datasets and Dataloaders...\n",
            "\n",
            "Initialized!\n"
          ],
          "name": "stdout"
        },
        {
          "output_type": "stream",
          "text": [
            "/usr/local/lib/python3.7/dist-packages/torch/utils/data/dataloader.py:477: UserWarning: This DataLoader will create 4 worker processes in total. Our suggested max number of worker in current system is 2, which is smaller than what this DataLoader is going to create. Please be aware that excessive worker creation might get DataLoader running slow or even freeze, lower the worker number to avoid potential slowness/freeze if necessary.\n",
            "  cpuset_checked))\n"
          ],
          "name": "stderr"
        }
      ]
    },
    {
      "cell_type": "code",
      "metadata": {
        "colab": {
          "base_uri": "https://localhost:8080/"
        },
        "id": "FJBU-HTOIgXw",
        "outputId": "ae5b0118-c6ac-4a0f-e15a-5f7fcee261dd"
      },
      "source": [
        "# Class names convert to index\r\n",
        "image_datasets['train'].class_to_idx\r\n",
        "class_names=image_datasets['train'].classes\r\n",
        "print(\">>Class Names: {}\\n\".format(image_datasets['train'].classes))\r\n",
        "print(\">>Class Index: {}\\n\".format(image_datasets['train'].class_to_idx))\r\n",
        "print(\">>Number of images in training={}\\n\".format(dataset_sizes['train']))\r\n",
        "print(\">>Number of images in test={}\\n\".format(dataset_sizes['test']))\r\n",
        "print(\"    Number of steps for training set={}\\n\".format(len(dataloaders['train'])))\r\n",
        "print(\"    Number of steps for test set={}\\n\".format(len(dataloaders['test']))) "
      ],
      "execution_count": 28,
      "outputs": [
        {
          "output_type": "stream",
          "text": [
            ">>Class Names: ['abnormal', 'normal']\n",
            "\n",
            ">>Class Index: {'abnormal': 0, 'normal': 1}\n",
            "\n",
            ">>Number of images in training=8379\n",
            "\n",
            ">>Number of images in test=563\n",
            "\n",
            "    Number of steps for training set=1048\n",
            "\n",
            "    Number of steps for test set=71\n",
            "\n"
          ],
          "name": "stdout"
        }
      ]
    },
    {
      "cell_type": "code",
      "metadata": {
        "colab": {
          "base_uri": "https://localhost:8080/",
          "height": 204
        },
        "id": "zyKj-Y7NIil8",
        "outputId": "ff8e9825-8fb7-4f56-fb5e-d568c9393c4e"
      },
      "source": [
        "def imshow(inp, title=None):\r\n",
        "    \"\"\"Imshow for Tensor.\"\"\"\r\n",
        "    inp = inp.numpy().transpose((1, 2, 0))\r\n",
        "    mean = np.array(mean1)\r\n",
        "    std = np.array(std1)\r\n",
        "    inp = std * inp + mean\r\n",
        "    inp = np.clip(inp, 0, 1)\r\n",
        "    plt.imshow(inp)\r\n",
        "    if title is not None:\r\n",
        "        plt.title(title)\r\n",
        "    plt.pause(0.001)  # pause a bit so that plots are updated\r\n",
        "\r\n",
        "\r\n",
        "# Get a batch of training data\r\n",
        "inputs, classes = next(iter(dataloaders['train']))\r\n",
        "inputs = [inputs[x] for x in [0,1,2,3]]\r\n",
        "classes = [classes[x] for x in [0,1,2,3]]\r\n",
        "# Make a grid from batch\r\n",
        "out = torchvision.utils.make_grid(inputs)\r\n",
        "\r\n",
        "imshow(out, title=[class_names[x] for x in classes])"
      ],
      "execution_count": 29,
      "outputs": [
        {
          "output_type": "stream",
          "text": [
            "/usr/local/lib/python3.7/dist-packages/torch/utils/data/dataloader.py:477: UserWarning: This DataLoader will create 4 worker processes in total. Our suggested max number of worker in current system is 2, which is smaller than what this DataLoader is going to create. Please be aware that excessive worker creation might get DataLoader running slow or even freeze, lower the worker number to avoid potential slowness/freeze if necessary.\n",
            "  cpuset_checked))\n"
          ],
          "name": "stderr"
        },
        {
          "output_type": "display_data",
          "data": {
            "image/png": "[encoded data removed]",
            "text/plain": [
              "<Figure size 432x288 with 1 Axes>"
            ]
          },
          "metadata": {
            "tags": [],
            "needs_background": "light"
          }
        }
      ]
    },
    {
      "cell_type": "markdown",
      "metadata": {
        "id": "TtNuZbhtIt2C"
      },
      "source": [
        "**Building the Ensemble Learning Model**"
      ]
    },
    {
      "cell_type": "code",
      "metadata": {
        "id": "NjjMfxEsIuis"
      },
      "source": [
        "train_losses = []\r\n",
        "train_acc = []\r\n",
        "test_losses = []\r\n",
        "test_acc = []"
      ],
      "execution_count": 30,
      "outputs": []
    },
    {
      "cell_type": "code",
      "metadata": {
        "id": "dMuuNDu_IxP9"
      },
      "source": [
        "def train_model(model, criterion, optimizer, scheduler, num_epochs=25):\r\n",
        "  since = time.time()\r\n",
        "\r\n",
        "  best_model_weights = copy.deepcopy(model.state_dict())\r\n",
        "  best_acc = 0.0\r\n",
        "  ghost=True\r\n",
        "  for epoch in range(num_epochs):\r\n",
        "    print('Epoch {}/{}'.format(epoch, num_epochs-1))\r\n",
        "    print('-'*10)\r\n",
        "\r\n",
        "    for phase in ['train', 'test']:\r\n",
        "      if phase == 'train':\r\n",
        "        model.train()\r\n",
        "      else:\r\n",
        "        model.eval()\r\n",
        "      \r\n",
        "      running_loss = 0.0\r\n",
        "      running_corrects = 0\r\n",
        "\r\n",
        "      for inputs, labels in dataloaders[phase]:\r\n",
        "        inputs = inputs.to(device)\r\n",
        "        labels = labels.to(device)\r\n",
        "\r\n",
        "        optimizer.zero_grad()\r\n",
        "\r\n",
        "        #forward, track history only if we are in training\r\n",
        "        with torch.set_grad_enabled(phase == 'train'):\r\n",
        "          outputs = model(inputs)\r\n",
        "          _, preds = torch.max(outputs, 1)\r\n",
        "          loss = criterion(outputs, labels)\r\n",
        "\r\n",
        "          #backward + optimize only if we are in training\r\n",
        "          if phase == 'train':\r\n",
        "            loss.backward()\r\n",
        "            optimizer.step()\r\n",
        "\r\n",
        "        running_loss += loss.detach() * inputs.size(0)\r\n",
        "        running_corrects += torch.sum(preds == labels.data)\r\n",
        "\r\n",
        "      if phase == 'train':\r\n",
        "        scheduler.step()\r\n",
        "\r\n",
        "      epoch_loss = running_loss/dataset_sizes[phase]\r\n",
        "      epoch_acc = running_corrects.double() / dataset_sizes[phase]\r\n",
        "      print('{} Loss: {:.4f} Acc: {:.4f}'.format(phase, epoch_loss, epoch_acc))\r\n",
        "\r\n",
        "      #storing losses and accuracy per epochs to plot metrics graph\r\n",
        "\r\n",
        "      if phase == 'train':\r\n",
        "        train_losses.append(epoch_loss)\r\n",
        "        train_acc.append(epoch_acc)\r\n",
        "        print('{} Loss: {:.4f} Acc: {:.4f}'.format(phase, epoch_loss, epoch_acc))\r\n",
        "      if phase == 'test':\r\n",
        "        print('{} Loss: {:.4f} Acc: {:.4f}'.format(phase, epoch_loss, epoch_acc))\r\n",
        "        test_losses.append(epoch_loss)\r\n",
        "        test_acc.append(epoch_acc)\r\n",
        "      torch.cuda.empty_cache()\r\n",
        "\r\n",
        "\r\n",
        "      #deep copy the model\r\n",
        "      if phase == 'test' and epoch_acc > best_acc:\r\n",
        "        best_acc = epoch_acc\r\n",
        "        best_model_weights = copy.deepcopy(model.state_dict())\r\n",
        "    \r\n",
        "    print()\r\n",
        "    torch.cuda.empty_cache()\r\n",
        "\r\n",
        "  time_elapsed = time.time() - since\r\n",
        "  print('Training complete in {:.0f}m {:.0f}s'.format(time_elapsed//60, time_elapsed%60))\r\n",
        "  print('Best val Acc: {:4f}'.format(best_acc))\r\n",
        "\r\n",
        "  model.load_state_dict(best_model_weights)\r\n",
        "  torch.save(best_model_weights, \"./model.pth\")\r\n",
        "  return model\r\n"
      ],
      "execution_count": 31,
      "outputs": []
    },
    {
      "cell_type": "code",
      "metadata": {
        "id": "oHouTPgVIyHv"
      },
      "source": [
        "class SpinalNet_ResNext_50(nn.Module):\r\n",
        "  def __init__(self):\r\n",
        "    super(SpinalNet_ResNext_50, self).__init__()\r\n",
        "\r\n",
        "    self.fc_spinal_layer1 = nn.Sequential(\r\n",
        "        nn.Linear(1024, 20),\r\n",
        "        nn.ReLU(inplace=True),)\r\n",
        "    self.fc_spinal_layer2 = nn.Sequential(\r\n",
        "        nn.Linear(1024+20, 20),\r\n",
        "        nn.ReLU(inplace=True),)\r\n",
        "    self.fc_spinal_layer3 = nn.Sequential(\r\n",
        "        nn.Linear(1024+20, 20),\r\n",
        "        nn.ReLU(inplace=True),)\r\n",
        "    self.fc_spinal_layer4 = nn.Sequential(\r\n",
        "        nn.Linear(1024+20, 20),\r\n",
        "        nn.ReLU(inplace=True),)\r\n",
        "    self.fc_out = nn.Sequential(\r\n",
        "        nn.Linear(20*4, 2),\r\n",
        "        nn.Sigmoid())\r\n",
        "    \r\n",
        "  def forward(self, x): \r\n",
        "    x1 = self.fc_spinal_layer1(x[:, 0:1024])\r\n",
        "    x2 = self.fc_spinal_layer2(torch.cat([x[:, 1024:2*1024], x1], dim=1))\r\n",
        "    x3 = self.fc_spinal_layer3(torch.cat([x[:, 0:1024], x2], dim=1))\r\n",
        "    x4 = self.fc_spinal_layer4(torch.cat([x[:, 1024:2*1024], x3], dim=1))   \r\n",
        "\r\n",
        "    x = torch.cat([x1, x2], dim=1)\r\n",
        "    x = torch.cat([x, x3], dim=1)\r\n",
        "    x = torch.cat([x, x4], dim=1)\r\n",
        "\r\n",
        "    x = self.fc_out(x)\r\n",
        "\r\n",
        "    return x"
      ],
      "execution_count": 34,
      "outputs": []
    },
    {
      "cell_type": "code",
      "metadata": {
        "id": "RJ9Ftb4zJZU8"
      },
      "source": [
        "class SpinalNet_DenseNet_201(nn.Module):\r\n",
        "  def __init__(self):\r\n",
        "    super(SpinalNet_DenseNet_201, self).__init__()\r\n",
        "\r\n",
        "    self.fc_spinal_layer1 = nn.Sequential(\r\n",
        "        nn.Dropout(p=0.5),\r\n",
        "        nn.Linear(960, 240),\r\n",
        "        nn.BatchNorm1d(240),\r\n",
        "        nn.ReLU(inplace=True),)\r\n",
        "    self.fc_spinal_layer2 = nn.Sequential(\r\n",
        "        nn.Dropout(p=0.5),\r\n",
        "        nn.Linear(960+240, 240),\r\n",
        "        nn.BatchNorm1d(240),\r\n",
        "        nn.ReLU(inplace=True),)\r\n",
        "    self.fc_spinal_layer3 = nn.Sequential(\r\n",
        "        nn.Dropout(p=0.5),\r\n",
        "        nn.Linear(960+240, 240),\r\n",
        "        nn.BatchNorm1d(240),\r\n",
        "        nn.ReLU(inplace=True),)\r\n",
        "    self.fc_spinal_layer4 = nn.Sequential(\r\n",
        "        nn.Dropout(p=0.5),\r\n",
        "        nn.Linear(960+240, 240),\r\n",
        "        nn.BatchNorm1d(240),\r\n",
        "        nn.ReLU(inplace=True),)\r\n",
        "    self.fc_out = nn.Sequential(\r\n",
        "        nn.Dropout(p=0.5),\r\n",
        "        nn.Linear(240*4, 2),\r\n",
        "        nn.Sigmoid(),)\r\n",
        "  \r\n",
        "  def forward(self, x):\r\n",
        "    x1 = self.fc_spinal_layer1(x[:, 0:960])\r\n",
        "    x2 = self.fc_spinal_layer2(torch.cat([x[:, 960:2*960], x1], dim=1))\r\n",
        "    x3 = self.fc_spinal_layer3(torch.cat([x[:, 0:960], x2], dim=1))\r\n",
        "    x4 = self.fc_spinal_layer4(torch.cat([x[:, 960:2*960], x3], dim=1))\r\n",
        "\r\n",
        "    x = torch.cat([x1, x2], dim=1)\r\n",
        "    x = torch.cat([x, x3], dim=1)\r\n",
        "    x = torch.cat([x, x4], dim=1)\r\n",
        "\r\n",
        "    x = self.fc_out(x)\r\n",
        "    return x"
      ],
      "execution_count": 41,
      "outputs": []
    },
    {
      "cell_type": "code",
      "metadata": {
        "id": "9pLtURK8NRGA"
      },
      "source": [
        "resnext50 =models.resnext50_32x4d(pretrained=False)\r\n",
        "resnext50.fc =  SpinalNet_ResNext_50()\r\n",
        "resnext50.load_state_dict(torch.load(modeldir+'/ResNeXt50SP.pth'))\r\n",
        "resnext50=resnext50.to(device)\r\n",
        "resnext50.fc.fc_out=nn.Linear(80,80)"
      ],
      "execution_count": 36,
      "outputs": []
    },
    {
      "cell_type": "code",
      "metadata": {
        "id": "K9cE4eTQPvgM"
      },
      "source": [
        "densenet169 = models.densenet169(pretrained=False)\r\n",
        "num_ftrs = densenet169.classifier.in_features\r\n",
        "densenet169.classifier = nn.Sequential(nn.Linear(num_ftrs, 2), nn.Sigmoid())\r\n",
        "densenet169.load_state_dict(torch.load(modeldir+'/DenseNet169FC.pth'))\r\n",
        "densenet169 = densenet169.to(device)\r\n",
        "densenet169.classifier = nn.Linear(1664, 1664)"
      ],
      "execution_count": 37,
      "outputs": []
    },
    {
      "cell_type": "code",
      "metadata": {
        "id": "HwbU2mJAQkwv"
      },
      "source": [
        "densenet201 = models.densenet201(pretrained=False)\r\n",
        "densenet201.classifier = SpinalNet_DenseNet_201()\r\n",
        "densenet201.load_state_dict(torch.load(modeldir+'/DenseNet201SP.pth'))\r\n",
        "densenet201 = densenet201.to(device)\r\n",
        "densenet201.classifier.fc_out=nn.Linear(960,960)"
      ],
      "execution_count": 42,
      "outputs": []
    },
    {
      "cell_type": "code",
      "metadata": {
        "id": "CAhXNTvHRLzH"
      },
      "source": [
        "for param in resnext50.parameters():\r\n",
        "    param.requires_grad_(False)\r\n",
        "\r\n",
        "for param in densenet169.parameters():\r\n",
        "    param.requires_grad_(False)\r\n",
        "    \r\n",
        "for param in densenet201.parameters():\r\n",
        "    param.requires_grad_(False)"
      ],
      "execution_count": 43,
      "outputs": []
    },
    {
      "cell_type": "code",
      "metadata": {
        "id": "OHSteyMSRM_0"
      },
      "source": [
        "class EnsembleLearning1(nn.Module):\r\n",
        "  def __init__(self):\r\n",
        "    super(EnsembleLearning1, self).__init__()\r\n",
        "\r\n",
        "    self.modelA = resnext50\r\n",
        "    self.modelB = densenet169\r\n",
        "    self.modelC = densenet201\r\n",
        "\r\n",
        "    self.hidden = nn.Linear(2704, 2704)\r\n",
        "    self.classifier = nn.Linear(2704, 2)\r\n",
        "\r\n",
        "  def forward(self, x):\r\n",
        "\r\n",
        "    x1 = self.modelA(x.clone())\r\n",
        "    x1 = x1.view(x1.size(0), -1)\r\n",
        "    x2 = self.modelB(x)\r\n",
        "    x2 = x2.view(x2.size(0), -1)\r\n",
        "    x3 = self.modelC(x)\r\n",
        "    x3 = x3.view(x3.size(0), -1)\r\n",
        "\r\n",
        "    x = torch.cat((x1,x2,x3), dim=1)\r\n",
        "    x = self.hidden(torch.softmax(x, dim=1))\r\n",
        "    x = self.classifier(torch.sigmoid(x))\r\n",
        "\r\n",
        "    return x"
      ],
      "execution_count": 44,
      "outputs": []
    },
    {
      "cell_type": "code",
      "metadata": {
        "id": "9sPgOm8XSLar"
      },
      "source": [
        "enslearn1 = EnsembleLearning1()\r\n",
        "enslearn1 = enslearn1.to(device)\r\n",
        "criterion = nn.CrossEntropyLoss()\r\n",
        "optimizer = optim.Adam(enslearn1.parameters(), lr=0.0001)\r\n",
        "exp_lr_scheduler = lr_scheduler.StepLR(optimizer, step_size=10, gamma=0.1)"
      ],
      "execution_count": 46,
      "outputs": []
    },
    {
      "cell_type": "code",
      "metadata": {
        "colab": {
          "base_uri": "https://localhost:8080/"
        },
        "id": "pAAbOBE_Six2",
        "outputId": "560cbffc-4083-4647-9344-1e777d3a0008"
      },
      "source": [
        "enslearn1 = train_model(enslearn1, criterion, optimizer, exp_lr_scheduler, 40)"
      ],
      "execution_count": 48,
      "outputs": [
        {
          "output_type": "stream",
          "text": [
            "Epoch 0/39\n",
            "----------\n"
          ],
          "name": "stdout"
        },
        {
          "output_type": "stream",
          "text": [
            "/usr/local/lib/python3.7/dist-packages/torch/utils/data/dataloader.py:477: UserWarning: This DataLoader will create 4 worker processes in total. Our suggested max number of worker in current system is 2, which is smaller than what this DataLoader is going to create. Please be aware that excessive worker creation might get DataLoader running slow or even freeze, lower the worker number to avoid potential slowness/freeze if necessary.\n",
            "  cpuset_checked))\n"
          ],
          "name": "stderr"
        },
        {
          "output_type": "stream",
          "text": [
            "train Loss: 0.6721 Acc: 0.5837\n",
            "train Loss: 0.6721 Acc: 0.5837\n",
            "test Loss: 0.6422 Acc: 0.5790\n",
            "test Loss: 0.6422 Acc: 0.5790\n",
            "\n",
            "Epoch 1/39\n",
            "----------\n",
            "train Loss: 0.6117 Acc: 0.6944\n",
            "train Loss: 0.6117 Acc: 0.6944\n",
            "test Loss: 0.5697 Acc: 0.7016\n",
            "test Loss: 0.5697 Acc: 0.7016\n",
            "\n",
            "Epoch 2/39\n",
            "----------\n",
            "train Loss: 0.5525 Acc: 0.7503\n",
            "train Loss: 0.5525 Acc: 0.7503\n",
            "test Loss: 0.5229 Acc: 0.8099\n",
            "test Loss: 0.5229 Acc: 0.8099\n",
            "\n",
            "Epoch 3/39\n",
            "----------\n",
            "train Loss: 0.5098 Acc: 0.7925\n",
            "train Loss: 0.5098 Acc: 0.7925\n",
            "test Loss: 0.5176 Acc: 0.7957\n",
            "test Loss: 0.5176 Acc: 0.7957\n",
            "\n",
            "Epoch 4/39\n",
            "----------\n",
            "train Loss: 0.4819 Acc: 0.8105\n",
            "train Loss: 0.4819 Acc: 0.8105\n",
            "test Loss: 0.4967 Acc: 0.8046\n",
            "test Loss: 0.4967 Acc: 0.8046\n",
            "\n",
            "Epoch 5/39\n",
            "----------\n",
            "train Loss: 0.4643 Acc: 0.8280\n",
            "train Loss: 0.4643 Acc: 0.8280\n",
            "test Loss: 0.4905 Acc: 0.7975\n",
            "test Loss: 0.4905 Acc: 0.7975\n",
            "\n",
            "Epoch 6/39\n",
            "----------\n",
            "train Loss: 0.4488 Acc: 0.8326\n",
            "train Loss: 0.4488 Acc: 0.8326\n",
            "test Loss: 0.5210 Acc: 0.8188\n",
            "test Loss: 0.5210 Acc: 0.8188\n",
            "\n",
            "Epoch 7/39\n",
            "----------\n",
            "train Loss: 0.4459 Acc: 0.8341\n",
            "train Loss: 0.4459 Acc: 0.8341\n",
            "test Loss: 0.5031 Acc: 0.8206\n",
            "test Loss: 0.5031 Acc: 0.8206\n",
            "\n",
            "Epoch 8/39\n",
            "----------\n",
            "train Loss: 0.4453 Acc: 0.8360\n",
            "train Loss: 0.4453 Acc: 0.8360\n",
            "test Loss: 0.5317 Acc: 0.7798\n",
            "test Loss: 0.5317 Acc: 0.7798\n",
            "\n",
            "Epoch 9/39\n",
            "----------\n",
            "train Loss: 0.4304 Acc: 0.8434\n",
            "train Loss: 0.4304 Acc: 0.8434\n",
            "test Loss: 0.5071 Acc: 0.8099\n",
            "test Loss: 0.5071 Acc: 0.8099\n",
            "\n",
            "Epoch 10/39\n",
            "----------\n",
            "train Loss: 0.4296 Acc: 0.8599\n",
            "train Loss: 0.4296 Acc: 0.8599\n",
            "test Loss: 0.4982 Acc: 0.8171\n",
            "test Loss: 0.4982 Acc: 0.8171\n",
            "\n",
            "Epoch 11/39\n",
            "----------\n",
            "train Loss: 0.4237 Acc: 0.8635\n",
            "train Loss: 0.4237 Acc: 0.8635\n",
            "test Loss: 0.4932 Acc: 0.8206\n",
            "test Loss: 0.4932 Acc: 0.8206\n",
            "\n",
            "Epoch 12/39\n",
            "----------\n",
            "train Loss: 0.4248 Acc: 0.8575\n",
            "train Loss: 0.4248 Acc: 0.8575\n",
            "test Loss: 0.5070 Acc: 0.8099\n",
            "test Loss: 0.5070 Acc: 0.8099\n",
            "\n",
            "Epoch 13/39\n",
            "----------\n",
            "train Loss: 0.4215 Acc: 0.8595\n",
            "train Loss: 0.4215 Acc: 0.8595\n",
            "test Loss: 0.4990 Acc: 0.8188\n",
            "test Loss: 0.4990 Acc: 0.8188\n",
            "\n",
            "Epoch 14/39\n",
            "----------\n",
            "train Loss: 0.4216 Acc: 0.8592\n",
            "train Loss: 0.4216 Acc: 0.8592\n",
            "test Loss: 0.4932 Acc: 0.8188\n",
            "test Loss: 0.4932 Acc: 0.8188\n",
            "\n",
            "Epoch 15/39\n",
            "----------\n",
            "train Loss: 0.4181 Acc: 0.8591\n",
            "train Loss: 0.4181 Acc: 0.8591\n",
            "test Loss: 0.5013 Acc: 0.8153\n",
            "test Loss: 0.5013 Acc: 0.8153\n",
            "\n",
            "Epoch 16/39\n",
            "----------\n",
            "train Loss: 0.4263 Acc: 0.8581\n",
            "train Loss: 0.4263 Acc: 0.8581\n",
            "test Loss: 0.4940 Acc: 0.8135\n",
            "test Loss: 0.4940 Acc: 0.8135\n",
            "\n",
            "Epoch 17/39\n",
            "----------\n",
            "train Loss: 0.4273 Acc: 0.8570\n",
            "train Loss: 0.4273 Acc: 0.8570\n",
            "test Loss: 0.5066 Acc: 0.8171\n",
            "test Loss: 0.5066 Acc: 0.8171\n",
            "\n",
            "Epoch 18/39\n",
            "----------\n",
            "train Loss: 0.4222 Acc: 0.8589\n",
            "train Loss: 0.4222 Acc: 0.8589\n",
            "test Loss: 0.4876 Acc: 0.8153\n",
            "test Loss: 0.4876 Acc: 0.8153\n",
            "\n",
            "Epoch 19/39\n",
            "----------\n",
            "train Loss: 0.4183 Acc: 0.8624\n",
            "train Loss: 0.4183 Acc: 0.8624\n",
            "test Loss: 0.4995 Acc: 0.8153\n",
            "test Loss: 0.4995 Acc: 0.8153\n",
            "\n",
            "Epoch 20/39\n",
            "----------\n",
            "train Loss: 0.4232 Acc: 0.8635\n",
            "train Loss: 0.4232 Acc: 0.8635\n",
            "test Loss: 0.4974 Acc: 0.8171\n",
            "test Loss: 0.4974 Acc: 0.8171\n",
            "\n",
            "Epoch 21/39\n",
            "----------\n",
            "train Loss: 0.4172 Acc: 0.8618\n",
            "train Loss: 0.4172 Acc: 0.8618\n",
            "test Loss: 0.5023 Acc: 0.8224\n",
            "test Loss: 0.5023 Acc: 0.8224\n",
            "\n",
            "Epoch 22/39\n",
            "----------\n",
            "train Loss: 0.4214 Acc: 0.8567\n",
            "train Loss: 0.4214 Acc: 0.8567\n",
            "test Loss: 0.4919 Acc: 0.8206\n",
            "test Loss: 0.4919 Acc: 0.8206\n",
            "\n",
            "Epoch 23/39\n",
            "----------\n",
            "train Loss: 0.4239 Acc: 0.8624\n",
            "train Loss: 0.4239 Acc: 0.8624\n",
            "test Loss: 0.5020 Acc: 0.8188\n",
            "test Loss: 0.5020 Acc: 0.8188\n",
            "\n",
            "Epoch 24/39\n",
            "----------\n",
            "train Loss: 0.4203 Acc: 0.8595\n",
            "train Loss: 0.4203 Acc: 0.8595\n",
            "test Loss: 0.4977 Acc: 0.8171\n",
            "test Loss: 0.4977 Acc: 0.8171\n",
            "\n",
            "Epoch 25/39\n",
            "----------\n",
            "train Loss: 0.4193 Acc: 0.8587\n",
            "train Loss: 0.4193 Acc: 0.8587\n",
            "test Loss: 0.4873 Acc: 0.8188\n",
            "test Loss: 0.4873 Acc: 0.8188\n",
            "\n",
            "Epoch 26/39\n",
            "----------\n",
            "train Loss: 0.4183 Acc: 0.8639\n",
            "train Loss: 0.4183 Acc: 0.8639\n",
            "test Loss: 0.4866 Acc: 0.8153\n",
            "test Loss: 0.4866 Acc: 0.8153\n",
            "\n",
            "Epoch 27/39\n",
            "----------\n",
            "train Loss: 0.4221 Acc: 0.8628\n",
            "train Loss: 0.4221 Acc: 0.8628\n",
            "test Loss: 0.5027 Acc: 0.8206\n",
            "test Loss: 0.5027 Acc: 0.8206\n",
            "\n",
            "Epoch 28/39\n",
            "----------\n",
            "train Loss: 0.4235 Acc: 0.8607\n",
            "train Loss: 0.4235 Acc: 0.8607\n",
            "test Loss: 0.4931 Acc: 0.8206\n",
            "test Loss: 0.4931 Acc: 0.8206\n",
            "\n",
            "Epoch 29/39\n",
            "----------\n",
            "train Loss: 0.4198 Acc: 0.8616\n",
            "train Loss: 0.4198 Acc: 0.8616\n",
            "test Loss: 0.4997 Acc: 0.8153\n",
            "test Loss: 0.4997 Acc: 0.8153\n",
            "\n",
            "Epoch 30/39\n",
            "----------\n",
            "train Loss: 0.4191 Acc: 0.8629\n",
            "train Loss: 0.4191 Acc: 0.8629\n",
            "test Loss: 0.4948 Acc: 0.8153\n",
            "test Loss: 0.4948 Acc: 0.8153\n",
            "\n",
            "Epoch 31/39\n",
            "----------\n",
            "train Loss: 0.4188 Acc: 0.8622\n",
            "train Loss: 0.4188 Acc: 0.8622\n",
            "test Loss: 0.5076 Acc: 0.8117\n",
            "test Loss: 0.5076 Acc: 0.8117\n",
            "\n",
            "Epoch 32/39\n",
            "----------\n",
            "train Loss: 0.4195 Acc: 0.8607\n",
            "train Loss: 0.4195 Acc: 0.8607\n",
            "test Loss: 0.4990 Acc: 0.8171\n",
            "test Loss: 0.4990 Acc: 0.8171\n",
            "\n",
            "Epoch 33/39\n",
            "----------\n",
            "train Loss: 0.4232 Acc: 0.8633\n",
            "train Loss: 0.4232 Acc: 0.8633\n",
            "test Loss: 0.4851 Acc: 0.8135\n",
            "test Loss: 0.4851 Acc: 0.8135\n",
            "\n",
            "Epoch 34/39\n",
            "----------\n",
            "train Loss: 0.4204 Acc: 0.8612\n",
            "train Loss: 0.4204 Acc: 0.8612\n",
            "test Loss: 0.4953 Acc: 0.8224\n",
            "test Loss: 0.4953 Acc: 0.8224\n",
            "\n",
            "Epoch 35/39\n",
            "----------\n",
            "train Loss: 0.4177 Acc: 0.8604\n",
            "train Loss: 0.4177 Acc: 0.8604\n",
            "test Loss: 0.5032 Acc: 0.8224\n",
            "test Loss: 0.5032 Acc: 0.8224\n",
            "\n",
            "Epoch 36/39\n",
            "----------\n",
            "train Loss: 0.4143 Acc: 0.8596\n",
            "train Loss: 0.4143 Acc: 0.8596\n",
            "test Loss: 0.5070 Acc: 0.8188\n",
            "test Loss: 0.5070 Acc: 0.8188\n",
            "\n",
            "Epoch 37/39\n",
            "----------\n",
            "train Loss: 0.4172 Acc: 0.8612\n",
            "train Loss: 0.4172 Acc: 0.8612\n",
            "test Loss: 0.4982 Acc: 0.8206\n",
            "test Loss: 0.4982 Acc: 0.8206\n",
            "\n",
            "Epoch 38/39\n",
            "----------\n",
            "train Loss: 0.4137 Acc: 0.8638\n",
            "train Loss: 0.4137 Acc: 0.8638\n",
            "test Loss: 0.4984 Acc: 0.8188\n",
            "test Loss: 0.4984 Acc: 0.8188\n",
            "\n",
            "Epoch 39/39\n",
            "----------\n",
            "train Loss: 0.4179 Acc: 0.8598\n",
            "train Loss: 0.4179 Acc: 0.8598\n",
            "test Loss: 0.5024 Acc: 0.8135\n",
            "test Loss: 0.5024 Acc: 0.8135\n",
            "\n",
            "Training complete in 179m 25s\n",
            "Best val Acc: 0.822380\n"
          ],
          "name": "stdout"
        }
      ]
    },
    {
      "cell_type": "code",
      "metadata": {
        "colab": {
          "base_uri": "https://localhost:8080/",
          "height": 490
        },
        "id": "NtOa6QpXSyC3",
        "outputId": "db3ee12b-db41-43e8-86ec-24e9ba9e11f2"
      },
      "source": [
        "matplotlib.rcdefaults()\r\n",
        "epochs=range(0, 40, 1)\r\n",
        "plt.plot(epochs, train_acc, color='#006BA4')\r\n",
        "plt.plot(epochs, test_acc, color='#FF800E')\r\n",
        "plt.grid(b=True, which='major', color='lightgray')\r\n",
        "plt.grid(b=True, which='minor', color='lightgray')\r\n",
        "plt.xticks(np.arange(0, 45, 5))\r\n",
        "plt.yticks(np.arange(0.5, 1, 0.05))\r\n",
        "plt.rcParams['figure.figsize'] = (8, 6)\r\n",
        "plt.rcParams['figure.dpi'] = 600\r\n",
        "plt.xlabel(\"Number of Epochs\")\r\n",
        "plt.ylabel(\"Accuracy\")\r\n",
        "plt.title(\"Training Accuracy vs Testing Accuracy\")\r\n",
        "plt.legend(['Training Acc.', 'Testing Acc.'],loc='lower right')"
      ],
      "execution_count": 49,
      "outputs": [
        {
          "output_type": "execute_result",
          "data": {
            "text/plain": [
              "<matplotlib.legend.Legend at 0x7fcd66d2a690>"
            ]
          },
          "metadata": {
            "tags": []
          },
          "execution_count": 49
        },
        {
          "output_type": "display_data",
          "data": {
            "image/png": "[encoded data removed]",
            "text/plain": [
              "<Figure size 640x480 with 1 Axes>"
            ]
          },
          "metadata": {
            "tags": []
          }
        }
      ]
    },
    {
      "cell_type": "code",
      "metadata": {
        "colab": {
          "base_uri": "https://localhost:8080/",
          "height": 490
        },
        "id": "YQ-SBm71S0do",
        "outputId": "12159432-d1a6-428f-d269-c2c32cc3e071"
      },
      "source": [
        "#This code block draw graph for loss\r\n",
        "matplotlib.rcdefaults()\r\n",
        "plt.plot(epochs, train_losses, color='#006BA4')\r\n",
        "plt.plot(epochs, test_losses, color='#FF800E')\r\n",
        "plt.grid(b=True, which='major', color='lightgray')\r\n",
        "plt.grid(b=True, which='minor', color='lightgray')\r\n",
        "plt.xticks(np.arange(0, 45, 5))\r\n",
        "plt.yticks(np.arange(0, 1.2, 0.2))\r\n",
        "plt.rcParams['figure.dpi'] = 600\r\n",
        "plt.rcParams['figure.figsize'] = (8, 6)\r\n",
        "plt.xlabel(\"Number of Epochs\")\r\n",
        "plt.ylabel(\"Loss\")\r\n",
        "plt.title(\"Training Loss vs Testing Loss\")\r\n",
        "plt.legend(['Training Loss', 'Testing Loss'],loc='lower right')"
      ],
      "execution_count": 50,
      "outputs": [
        {
          "output_type": "execute_result",
          "data": {
            "text/plain": [
              "<matplotlib.legend.Legend at 0x7fcd669911d0>"
            ]
          },
          "metadata": {
            "tags": []
          },
          "execution_count": 50
        },
        {
          "output_type": "display_data",
          "data": {
            "image/png": "[encoded data removed]",
            "text/plain": [
              "<Figure size 640x480 with 1 Axes>"
            ]
          },
          "metadata": {
            "tags": []
          }
        }
      ]
    },
    {
      "cell_type": "code",
      "metadata": {
        "colab": {
          "base_uri": "https://localhost:8080/"
        },
        "id": "hJyY5QZwS2iZ",
        "outputId": "75e87239-d2c1-46f5-b7b6-7276384f427b"
      },
      "source": [
        "get_metric.test_model(enslearn1,device,dataloaders['test'])"
      ],
      "execution_count": 51,
      "outputs": [
        {
          "output_type": "stream",
          "text": [
            "/usr/local/lib/python3.7/dist-packages/torch/utils/data/dataloader.py:477: UserWarning: This DataLoader will create 4 worker processes in total. Our suggested max number of worker in current system is 2, which is smaller than what this DataLoader is going to create. Please be aware that excessive worker creation might get DataLoader running slow or even freeze, lower the worker number to avoid potential slowness/freeze if necessary.\n",
            "  cpuset_checked))\n"
          ],
          "name": "stderr"
        },
        {
          "output_type": "stream",
          "text": [
            "Correct Prediction: 463  Total Images: 563\n",
            "Test Accuracy = 0.822380\n"
          ],
          "name": "stdout"
        }
      ]
    },
    {
      "cell_type": "code",
      "metadata": {
        "colab": {
          "base_uri": "https://localhost:8080/"
        },
        "id": "w8SQATJGS3k8",
        "outputId": "e86097a9-51bb-4aed-bea7-7021fe3e6f25"
      },
      "source": [
        "actuals, predictions = get_metric.test_label_predictions(enslearn1, device, dataloaders['test'])"
      ],
      "execution_count": 53,
      "outputs": [
        {
          "output_type": "stream",
          "text": [
            "/usr/local/lib/python3.7/dist-packages/torch/utils/data/dataloader.py:477: UserWarning: This DataLoader will create 4 worker processes in total. Our suggested max number of worker in current system is 2, which is smaller than what this DataLoader is going to create. Please be aware that excessive worker creation might get DataLoader running slow or even freeze, lower the worker number to avoid potential slowness/freeze if necessary.\n",
            "  cpuset_checked))\n"
          ],
          "name": "stderr"
        }
      ]
    },
    {
      "cell_type": "code",
      "metadata": {
        "colab": {
          "base_uri": "https://localhost:8080/"
        },
        "id": "goiYGmMcS4bc",
        "outputId": "d2327abf-536b-40ea-be00-2a090f8bb03e"
      },
      "source": [
        "get_metric.get_classification_report(actuals, predictions)"
      ],
      "execution_count": 54,
      "outputs": [
        {
          "output_type": "stream",
          "text": [
            "Classification Report :\n",
            "               precision    recall  f1-score   support\n",
            "\n",
            "           0       0.83      0.81      0.82       278\n",
            "           1       0.82      0.84      0.83       285\n",
            "\n",
            "    accuracy                           0.82       563\n",
            "   macro avg       0.82      0.82      0.82       563\n",
            "weighted avg       0.82      0.82      0.82       563\n",
            "\n"
          ],
          "name": "stdout"
        }
      ]
    },
    {
      "cell_type": "code",
      "metadata": {
        "colab": {
          "base_uri": "https://localhost:8080/",
          "height": 483
        },
        "id": "eXBFiZ0YS5ac",
        "outputId": "9a48b966-225e-4472-fb3f-a407638d3876"
      },
      "source": [
        "get_metric.get_confusion_matrix(actuals, predictions)"
      ],
      "execution_count": 55,
      "outputs": [
        {
          "output_type": "stream",
          "text": [
            "Confusion matrix:\n",
            " [[224  54]\n",
            " [ 46 239]]\n"
          ],
          "name": "stdout"
        },
        {
          "output_type": "display_data",
          "data": {
            "image/png": "[encoded data removed]",
            "text/plain": [
              "<Figure size 640x480 with 2 Axes>"
            ]
          },
          "metadata": {
            "tags": []
          }
        }
      ]
    },
    {
      "cell_type": "code",
      "metadata": {
        "colab": {
          "base_uri": "https://localhost:8080/"
        },
        "id": "Y-t9-46CS6k6",
        "outputId": "2ec92739-eb79-4574-969a-135a523e1393"
      },
      "source": [
        "get_metric.get_cohen_kappa(actuals, predictions)"
      ],
      "execution_count": 56,
      "outputs": [
        {
          "output_type": "stream",
          "text": [
            "Kappa Score of this model:\n",
            " 0.6445796823312542\n"
          ],
          "name": "stdout"
        }
      ]
    },
    {
      "cell_type": "code",
      "metadata": {
        "colab": {
          "base_uri": "https://localhost:8080/",
          "height": 558
        },
        "id": "x6qo7tdgS7pL",
        "outputId": "5517e448-a61e-44f7-f6a4-142b8a5d91c9"
      },
      "source": [
        "get_metric.get_roc_curves(enslearn1, device,  dataloaders['test'])"
      ],
      "execution_count": 58,
      "outputs": [
        {
          "output_type": "stream",
          "text": [
            "/usr/local/lib/python3.7/dist-packages/torch/utils/data/dataloader.py:477: UserWarning: This DataLoader will create 4 worker processes in total. Our suggested max number of worker in current system is 2, which is smaller than what this DataLoader is going to create. Please be aware that excessive worker creation might get DataLoader running slow or even freeze, lower the worker number to avoid potential slowness/freeze if necessary.\n",
            "  cpuset_checked))\n",
            "/usr/local/lib/python3.7/dist-packages/torch/utils/data/dataloader.py:477: UserWarning: This DataLoader will create 4 worker processes in total. Our suggested max number of worker in current system is 2, which is smaller than what this DataLoader is going to create. Please be aware that excessive worker creation might get DataLoader running slow or even freeze, lower the worker number to avoid potential slowness/freeze if necessary.\n",
            "  cpuset_checked))\n"
          ],
          "name": "stderr"
        },
        {
          "output_type": "stream",
          "text": [
            "Auc Score For Each Class:  {0: 0.8722201186419286, 1: 0.8722201186419286}\n"
          ],
          "name": "stdout"
        },
        {
          "output_type": "display_data",
          "data": {
            "image/png": "[encoded data removed]",
            "text/plain": [
              "<Figure size 640x480 with 1 Axes>"
            ]
          },
          "metadata": {
            "tags": []
          }
        }
      ]
    }
  ]
}